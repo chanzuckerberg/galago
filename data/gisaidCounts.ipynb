{
 "cells": [
  {
   "cell_type": "code",
   "execution_count": 1,
   "id": "c3764406",
   "metadata": {},
   "outputs": [],
   "source": [
    "import pandas as pd\n",
    "import json"
   ]
  },
  {
   "cell_type": "code",
   "execution_count": 6,
   "id": "50089890",
   "metadata": {},
   "outputs": [
    {
     "name": "stderr",
     "output_type": "stream",
     "text": [
      "/Users/sbell/opt/anaconda3/lib/python3.8/site-packages/IPython/core/interactiveshell.py:3165: DtypeWarning: Columns (9) have mixed types.Specify dtype option on import or set low_memory=False.\n",
      "  has_raised = await self.run_ast_nodes(code_ast.body, cell_name,\n"
     ]
    }
   ],
   "source": [
    "df = pd.read_csv('./sanitized_metadata_gisaid.tsv.xz', delimiter='\\t', usecols=['strain','date', 'country', 'division', 'location'])"
   ]
  },
  {
   "cell_type": "code",
   "execution_count": 7,
   "id": "eb6cf6ae",
   "metadata": {},
   "outputs": [],
   "source": [
    "df['date'] = pd.to_datetime(df['date'], errors='coerce')\n",
    "df.dropna(subset=['date'], inplace=True)"
   ]
  },
  {
   "cell_type": "code",
   "execution_count": 8,
   "id": "c1614a82",
   "metadata": {},
   "outputs": [
    {
     "data": {
      "text/html": [
       "<div>\n",
       "<style scoped>\n",
       "    .dataframe tbody tr th:only-of-type {\n",
       "        vertical-align: middle;\n",
       "    }\n",
       "\n",
       "    .dataframe tbody tr th {\n",
       "        vertical-align: top;\n",
       "    }\n",
       "\n",
       "    .dataframe thead th {\n",
       "        text-align: right;\n",
       "    }\n",
       "</style>\n",
       "<table border=\"1\" class=\"dataframe\">\n",
       "  <thead>\n",
       "    <tr style=\"text-align: right;\">\n",
       "      <th></th>\n",
       "      <th>strain</th>\n",
       "      <th>date</th>\n",
       "      <th>country</th>\n",
       "      <th>division</th>\n",
       "      <th>location</th>\n",
       "      <th>year</th>\n",
       "      <th>month</th>\n",
       "    </tr>\n",
       "  </thead>\n",
       "  <tbody>\n",
       "    <tr>\n",
       "      <th>0</th>\n",
       "      <td>Afganistan/IMB07956/2020</td>\n",
       "      <td>2020-06-06</td>\n",
       "      <td>Afghanistan</td>\n",
       "      <td>Afghanistan</td>\n",
       "      <td>unknown</td>\n",
       "      <td>2020</td>\n",
       "      <td>6</td>\n",
       "    </tr>\n",
       "    <tr>\n",
       "      <th>1</th>\n",
       "      <td>Afganistan/IMB15483/2021</td>\n",
       "      <td>2021-01-21</td>\n",
       "      <td>Afghanistan</td>\n",
       "      <td>Afghanistan</td>\n",
       "      <td>unknown</td>\n",
       "      <td>2021</td>\n",
       "      <td>1</td>\n",
       "    </tr>\n",
       "    <tr>\n",
       "      <th>2</th>\n",
       "      <td>Afganistan/IMB15484/2021</td>\n",
       "      <td>2021-01-21</td>\n",
       "      <td>Afghanistan</td>\n",
       "      <td>Afghanistan</td>\n",
       "      <td>unknown</td>\n",
       "      <td>2021</td>\n",
       "      <td>1</td>\n",
       "    </tr>\n",
       "    <tr>\n",
       "      <th>3</th>\n",
       "      <td>Afganistan/IMB15485/2021</td>\n",
       "      <td>2021-01-21</td>\n",
       "      <td>Afghanistan</td>\n",
       "      <td>Afghanistan</td>\n",
       "      <td>unknown</td>\n",
       "      <td>2021</td>\n",
       "      <td>1</td>\n",
       "    </tr>\n",
       "    <tr>\n",
       "      <th>4</th>\n",
       "      <td>Afganistan/IMB15486/2021</td>\n",
       "      <td>2021-01-21</td>\n",
       "      <td>Afghanistan</td>\n",
       "      <td>Afghanistan</td>\n",
       "      <td>unknown</td>\n",
       "      <td>2021</td>\n",
       "      <td>1</td>\n",
       "    </tr>\n",
       "  </tbody>\n",
       "</table>\n",
       "</div>"
      ],
      "text/plain": [
       "                     strain       date      country     division location  \\\n",
       "0  Afganistan/IMB07956/2020 2020-06-06  Afghanistan  Afghanistan  unknown   \n",
       "1  Afganistan/IMB15483/2021 2021-01-21  Afghanistan  Afghanistan  unknown   \n",
       "2  Afganistan/IMB15484/2021 2021-01-21  Afghanistan  Afghanistan  unknown   \n",
       "3  Afganistan/IMB15485/2021 2021-01-21  Afghanistan  Afghanistan  unknown   \n",
       "4  Afganistan/IMB15486/2021 2021-01-21  Afghanistan  Afghanistan  unknown   \n",
       "\n",
       "   year  month  \n",
       "0  2020      6  \n",
       "1  2021      1  \n",
       "2  2021      1  \n",
       "3  2021      1  \n",
       "4  2021      1  "
      ]
     },
     "execution_count": 8,
     "metadata": {},
     "output_type": "execute_result"
    }
   ],
   "source": [
    "df['year'] = df['date'].apply(lambda x: x.year)\n",
    "df['month'] = df['date'].apply(lambda x: x.month)\n",
    "# df.drop(['date'], axis=1, inplace=True)\n",
    "df['location'].fillna('unknown', inplace=True)\n",
    "df.head()"
   ]
  },
  {
   "cell_type": "code",
   "execution_count": 9,
   "id": "4d41707b",
   "metadata": {},
   "outputs": [],
   "source": [
    "counts = df.groupby(by=['country', 'division', 'location', 'year', 'month'])['strain'].agg('count')"
   ]
  },
  {
   "cell_type": "code",
   "execution_count": 10,
   "id": "29bf264f",
   "metadata": {},
   "outputs": [],
   "source": [
    "json.dump(json.loads(counts.to_json(orient='table')), open('./gisaidCounts2022-09.json', 'w'))"
   ]
  },
  {
   "cell_type": "code",
   "execution_count": null,
   "id": "400ae759",
   "metadata": {},
   "outputs": [],
   "source": []
  }
 ],
 "metadata": {
  "kernelspec": {
   "display_name": "Python 3",
   "language": "python",
   "name": "python3"
  },
  "language_info": {
   "codemirror_mode": {
    "name": "ipython",
    "version": 3
   },
   "file_extension": ".py",
   "mimetype": "text/x-python",
   "name": "python",
   "nbconvert_exporter": "python",
   "pygments_lexer": "ipython3",
   "version": "3.8.8"
  }
 },
 "nbformat": 4,
 "nbformat_minor": 5
}
